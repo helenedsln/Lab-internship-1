{
 "cells": [
  {
   "cell_type": "code",
   "execution_count": 2,
   "metadata": {},
   "outputs": [
    {
     "name": "stderr",
     "output_type": "stream",
     "text": [
      "/home/ubuntu/miniconda3/envs/leo_mistral/lib/python3.12/site-packages/tqdm/auto.py:21: TqdmWarning: IProgress not found. Please update jupyter and ipywidgets. See https://ipywidgets.readthedocs.io/en/stable/user_install.html\n",
      "  from .autonotebook import tqdm as notebook_tqdm\n",
      "[nltk_data] Downloading package punkt to /home/ubuntu/nltk_data...\n",
      "[nltk_data]   Package punkt is already up-to-date!\n",
      "[nltk_data] Downloading package averaged_perceptron_tagger to\n",
      "[nltk_data]     /home/ubuntu/nltk_data...\n",
      "[nltk_data]   Package averaged_perceptron_tagger is already up-to-\n",
      "[nltk_data]       date!\n",
      "[nltk_data] Downloading package wordnet to /home/ubuntu/nltk_data...\n",
      "[nltk_data]   Package wordnet is already up-to-date!\n"
     ]
    }
   ],
   "source": [
    "from german_generation import save_dataframe\n",
    "\n",
    "from utils import lemmatize\n",
    "import os\n",
    "import pandas as pd\n"
   ]
  },
  {
   "cell_type": "code",
   "execution_count": 3,
   "metadata": {},
   "outputs": [],
   "source": [
    "def get_most_recent_csv(prefix):\n",
    "\n",
    "    directory = \"/home/ubuntu/helene/results\"\n",
    "\n",
    "    # List all files in the directory\n",
    "    files = os.listdir(directory)\n",
    "    \n",
    "    # Filter out only CSV files\n",
    "    csv_files = [f for f in files if f.endswith('.csv') and f.startswith(prefix)] \n",
    "    \n",
    "    # Get the full path of the files\n",
    "    full_paths = [os.path.join(directory, f) for f in csv_files]\n",
    "    \n",
    "    # Sort files by modification time in descending order\n",
    "    most_recent_file = max(full_paths, key=os.path.getmtime)\n",
    "    \n",
    "    return most_recent_file\n",
    "\n",
    "results = pd.read_csv(get_most_recent_csv('german_results'))\n",
    "results_df = results.copy()"
   ]
  },
  {
   "cell_type": "code",
   "execution_count": 13,
   "metadata": {},
   "outputs": [],
   "source": [
    "# def compute_word_distance(ft_model, word_lemma):\n",
    "\n",
    "#     Model_vec = [[np.array([ft_model[y] if y in ft_model.get_words() \n",
    "#                                         else np.stack([ft_model.get_word_vector(y) if y in ft_model.get_words() \n",
    "#                                                                                     else np.zeros(ft_model.get_dimension())])\n",
    "#             for y in x])\n",
    "#         for x in z]\n",
    "#     for z in word_lemma]\n",
    "\n",
    "#      # Calculate distance between words of a sentence\n",
    "#     wordwise_sim = [[np.matrix([[sp.spatial.distance.cosine(sent[w1], sent[w2]) if w2 > w1 else np.nan\n",
    "#                                 for w2 in range(sent.shape[0])]\n",
    "#                                 for w1 in (range(sent.shape[0]))])\n",
    "#                     for sent in samp]\n",
    "#                     for samp in Model_vec]\n",
    "\n",
    "#     # Only consecutive words\n",
    "#     wordwise_sequential = [[[sim[w, w+1] for w in range(sim.shape[0]-1)]\n",
    "#                             for sim in samp]\n",
    "#                             for samp in wordwise_sim]\n",
    "\n",
    "#     # Average of distance between consecutive words  \n",
    "#     wordwise_sequential_m = [[np.nanmean(np.array(sim)[np.array(sim) > 0]) for sim in samp if len(np.array(sim)[np.array(sim) > 0]) > 0] for samp in wordwise_sequential]\n",
    "#     wordwise_sequential_min = [[np.nanmin(np.array(sim)[np.array(sim) > 0]) for sim in samp if len(np.array(sim)[np.array(sim) > 0]) > 0] for samp in wordwise_sequential]\n",
    "#     wordwise_sequential_max = [[np.nanmax(np.array(sim)[np.array(sim) > 0]) for sim in samp if len(np.array(sim)[np.array(sim) > 0]) > 0] for samp in wordwise_sequential]\n",
    "#     wordwise_sequential_std = [[np.nanstd(np.array(sim)[np.array(sim) > 0]) for sim in samp if len(np.array(sim)[np.array(sim) > 0]) > 0] for samp in wordwise_sequential]\n",
    "\n",
    "#     # Average of distance between all words\n",
    "#     wordwise_all_m = [[np.nanmean(np.array(sim)[np.array(sim) > 0]) for sim in samp if len(np.array(sim)[np.array(sim) > 0]) > 0] for samp in wordwise_sim]\n",
    "#     wordwise_all_min = [[np.nanmin(np.array(sim)[np.array(sim) > 0]) for sim in samp if len(np.array(sim)[np.array(sim) > 0]) > 0] for samp in wordwise_sim]\n",
    "#     wordwise_all_max = [[np.nanmax(np.array(sim)[np.array(sim) > 0]) for sim in samp if len(np.array(sim)[np.array(sim) > 0]) > 0] for samp in wordwise_sim]\n",
    "#     wordwise_all_std = [[np.nanstd(np.array(sim)[np.array(sim) > 0]) for sim in samp if len(np.array(sim)[np.array(sim) > 0]) > 0] for samp in wordwise_sim]\n",
    "\n",
    "\n",
    "#     word_embedding_df_init = pd.DataFrame()\n",
    "#     word_embedding_df_init[\"word_seq_dist\"]=[np.nanmean(x) for x in wordwise_sequential_m]\n",
    "#     word_embedding_df_init[\"word_all_dist\"]=[np.nanmean(x) for x in wordwise_all_m]\n",
    "#     word_embedding_df_init[\"word_seq_dist_min\"]=[np.nanmean(x) for x in wordwise_sequential_min]\n",
    "#     word_embedding_df_init[\"word_all_dist_min\"]=[np.nanmean(x) for x in wordwise_all_min]\n",
    "#     word_embedding_df_init[\"word_seq_dist_max\"]=[np.nanmean(x) for x in wordwise_sequential_max]\n",
    "#     word_embedding_df_init[\"word_all_dist_max\"]=[np.nanmean(x) for x in wordwise_all_max]\n",
    "#     word_embedding_df_init[\"word_seq_dist_std\"]=[np.nanmean(x) for x in wordwise_sequential_std]\n",
    "#     word_embedding_df_init[\"word_all_dist_std\"]=[np.nanmean(x) for x in wordwise_all_std]\n",
    "#     #word_embedding_df_init[\"result_lemmatized\"]=word_lemma\n",
    "\n",
    "#     #nWords=[[len(x) for x in y] for y in word_lemma]\n",
    "#     #nWordsM=np.array([np.nanmean(np.array(x)) for x in nWords])\n",
    "#     #word_embedding_df_init[\"nWords\"]=np.tile(nWordsM,3) #Number of words per sentence\n",
    "    \n",
    "#     return word_embedding_df_init"
   ]
  },
  {
   "cell_type": "code",
   "execution_count": 14,
   "metadata": {},
   "outputs": [],
   "source": [
    "# from tqdm import tqdm\n",
    "# import numpy as np\n",
    "# import pandas as pd\n",
    "\n",
    "# import fasttext.util\n",
    "# FASTTEXT_MODEL = \"cc.en.300.bin\"\n",
    "\n",
    "    \n",
    "# def word_embedding(results_df):\n",
    "\n",
    "#     sentences2, word_lemma=remove_and_tokenize(results_df)\n",
    "    \n",
    "#     fasttext.util.download_model(\"en\", if_exists=\"ignore\")\n",
    "#     ft_model = fasttext.load_model(FASTTEXT_MODEL)\n",
    "\n",
    "#     word_embedding_df_init=compute_word_distance(ft_model, word_lemma)\n",
    "    \n",
    "#     results_df2=results_df[['repetition', 'prompt', 'sampling_method', 'p', 'temperature', 'backward_attention_length']]\n",
    "#     word_embedding_df=results_df2.merge(word_embedding_df_init, left_index=True, right_index=True, how='left')\n",
    "\n",
    "#     save_dataframe(word_embedding_df, 'word_embedding')\n",
    "\n",
    "#     return word_embedding_df\n",
    "\n"
   ]
  },
  {
   "cell_type": "code",
   "execution_count": 15,
   "metadata": {},
   "outputs": [],
   "source": [
    "# word_embedding_df = word_embedding(final)"
   ]
  }
 ],
 "metadata": {
  "kernelspec": {
   "display_name": "nils",
   "language": "python",
   "name": "python3"
  },
  "language_info": {
   "codemirror_mode": {
    "name": "ipython",
    "version": 3
   },
   "file_extension": ".py",
   "mimetype": "text/x-python",
   "name": "python",
   "nbconvert_exporter": "python",
   "pygments_lexer": "ipython3",
   "version": "3.12.3"
  }
 },
 "nbformat": 4,
 "nbformat_minor": 2
}
